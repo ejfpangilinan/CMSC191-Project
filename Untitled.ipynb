{
 "cells": [
  {
   "cell_type": "code",
   "execution_count": 1,
   "id": "6e5eabaa",
   "metadata": {},
   "outputs": [],
   "source": [
    "#import necessary libraries\n",
    "import numpy as np\n",
    "import math\n",
    "import pandas\n",
    "from pandas import read_csv\n",
    "from pandas import concat\n",
    "import random\n",
    "from decimal import *\n",
    "import matplotlib.pyplot as plt\n",
    "\n",
    "from sklearn.metrics import accuracy_score,recall_score,precision_score\n",
    "from sklearn.metrics import f1_score,confusion_matrix,roc_auc_score\n",
    "from sklearn.model_selection import train_test_split\n",
    "\n",
    "\n",
    "import warnings\n",
    "\n",
    "#suppress warnings\n",
    "warnings.filterwarnings('ignore')"
   ]
  },
  {
   "cell_type": "code",
   "execution_count": 2,
   "id": "f39af0de",
   "metadata": {},
   "outputs": [
    {
     "name": "stdout",
     "output_type": "stream",
     "text": [
      "<class 'pandas.core.frame.DataFrame'>\n",
      "Int64Index: 20560 entries, 140 to 9752\n",
      "Data columns (total 7 columns):\n",
      " #   Column         Non-Null Count  Dtype  \n",
      "---  ------         --------------  -----  \n",
      " 0   date           20560 non-null  object \n",
      " 1   Temperature    20560 non-null  float64\n",
      " 2   Humidity       20560 non-null  float64\n",
      " 3   Light          20560 non-null  float64\n",
      " 4   CO2            20560 non-null  float64\n",
      " 5   HumidityRatio  20560 non-null  float64\n",
      " 6   Occupancy      20560 non-null  int64  \n",
      "dtypes: float64(5), int64(1), object(1)\n",
      "memory usage: 1.3+ MB\n",
      "None\n",
      "number of training set \n",
      " input:  14392 \n",
      " output:  14392\n",
      "number of test set \n",
      " input:  6168 \n",
      " output:  6168\n"
     ]
    }
   ],
   "source": [
    "# Prepare the Datasets\n",
    "\n",
    "#CLEAN THE DATASET\n",
    "# load data\n",
    "test1 = read_csv('datatest.txt', header=0, index_col=0, parse_dates=True, squeeze=True)\n",
    "train = read_csv('datatraining.txt', header=0, index_col=0, parse_dates=True, squeeze=True)\n",
    "test2 = read_csv('datatest2.txt', header=0, index_col=0, parse_dates=True, squeeze=True)\n",
    "\n",
    "# vertically stack and maintain temporal order\n",
    "data = concat([test1, train, test2])\n",
    "\n",
    "values = data.values\n",
    "#separate inputs and output values\n",
    "INPUT, OUTPUT = values[:, 1:-1], values[:, -1]\n",
    "X, Y = np.array((INPUT),dtype=float), np.array((OUTPUT),dtype=float)\n",
    "\n",
    "\n",
    "\n",
    "# split the dataset\n",
    "trainX, testX, trainY, testY = train_test_split(X, Y, test_size=0.3, shuffle=False, random_state=1)\n",
    "\n",
    "#print dataset information\n",
    "print(data.info())\n",
    "print(\"number of training set \\n input: \", len(trainX),\"\\n output: \",len(trainY))\n",
    "print(\"number of test set \\n input: \", len(testX),\"\\n output: \",len(testY))\n"
   ]
  },
  {
   "cell_type": "code",
   "execution_count": 3,
   "id": "2579426b",
   "metadata": {},
   "outputs": [
    {
     "name": "stdout",
     "output_type": "stream",
     "text": [
      "[[    0 10739]\n",
      " [    1  3653]]\n"
     ]
    }
   ],
   "source": [
    "#get the frequency count of occupied(1) vs not occuppied(0) in the dataset\n",
    "unique, counts = np.unique(trainY, return_counts=True)\n",
    "freq_array = np.asarray((unique, counts),dtype=int).T\n",
    "print (freq_array)"
   ]
  },
  {
   "cell_type": "code",
   "execution_count": 4,
   "id": "fd694338",
   "metadata": {},
   "outputs": [
    {
     "name": "stdout",
     "output_type": "stream",
     "text": [
      "7086 7086\n"
     ]
    }
   ],
   "source": [
    "#upsample the training Data for occuppied(1):\n",
    "up_x = []\n",
    "up_y = []\n",
    "\n",
    "r = (freq_array[0][1]-freq_array[1][1])\n",
    "add = 0\n",
    "cnt=0\n",
    "\n",
    "while add!=r:\n",
    "    if trainY[cnt]==1:\n",
    "        up_x.append(trainX[cnt])\n",
    "        up_y.append(trainY[cnt])\n",
    "        add+=1\n",
    "        \n",
    "    cnt+=1\n",
    "    if cnt>=len(trainY) and add<r:\n",
    "        cnt=0\n",
    "    \n",
    "        \n",
    "up_x = np.array((up_x),dtype=float)\n",
    "up_y = np.array((up_y),dtype=float)\n",
    "\n",
    "print(len(up_x),len(up_y))\n",
    "\n",
    "trainX = np.append(trainX,up_x)\n",
    "trainY = np.append(trainY,up_y)"
   ]
  },
  {
   "cell_type": "code",
   "execution_count": 5,
   "id": "52241540",
   "metadata": {},
   "outputs": [
    {
     "name": "stdout",
     "output_type": "stream",
     "text": [
      "[[    0 10739]\n",
      " [    1 10739]]\n"
     ]
    }
   ],
   "source": [
    "\n",
    "#get the frequency count of occupied(1) vs not occuppied(0) in the dataset after upsampling\n",
    "unique, counts = np.unique(trainY, return_counts=True)\n",
    "freq_array = np.asarray((unique, counts),dtype=int).T\n",
    "\n",
    "print (freq_array)\n"
   ]
  }
 ],
 "metadata": {
  "kernelspec": {
   "display_name": "Python 3 (ipykernel)",
   "language": "python",
   "name": "python3"
  },
  "language_info": {
   "codemirror_mode": {
    "name": "ipython",
    "version": 3
   },
   "file_extension": ".py",
   "mimetype": "text/x-python",
   "name": "python",
   "nbconvert_exporter": "python",
   "pygments_lexer": "ipython3",
   "version": "3.8.5"
  }
 },
 "nbformat": 4,
 "nbformat_minor": 5
}
